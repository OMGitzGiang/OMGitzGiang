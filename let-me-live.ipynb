{
 "cells": [
  {
   "cell_type": "code",
   "execution_count": 1,
   "id": "c5c42028",
   "metadata": {
    "_cell_guid": "b1076dfc-b9ad-4769-8c92-a6c4dae69d19",
    "_uuid": "8f2839f25d086af736a60e9eeb907d3b93b6e0e5",
    "execution": {
     "iopub.execute_input": "2023-10-12T17:10:47.675716Z",
     "iopub.status.busy": "2023-10-12T17:10:47.675086Z",
     "iopub.status.idle": "2023-10-12T17:10:48.054316Z",
     "shell.execute_reply": "2023-10-12T17:10:48.053617Z"
    },
    "papermill": {
     "duration": 0.387815,
     "end_time": "2023-10-12T17:10:48.057120",
     "exception": false,
     "start_time": "2023-10-12T17:10:47.669305",
     "status": "completed"
    },
    "tags": []
   },
   "outputs": [
    {
     "name": "stdout",
     "output_type": "stream",
     "text": [
      "/kaggle/input/titanic/train.csv\n",
      "/kaggle/input/titanic/test.csv\n",
      "/kaggle/input/titanic/gender_submission.csv\n"
     ]
    }
   ],
   "source": [
    "# This Python 3 environment comes with many helpful analytics libraries installed\n",
    "# It is defined by the kaggle/python Docker image: https://github.com/kaggle/docker-python\n",
    "# For example, here's several helpful packages to load\n",
    "\n",
    "import numpy as np # linear algebra\n",
    "import pandas as pd # data processing, CSV file I/O (e.g. pd.read_csv)\n",
    "\n",
    "# Input data files are available in the read-only \"../input/\" directory\n",
    "# For example, running this (by clicking run or pressing Shift+Enter) will list all files under the input directory\n",
    "\n",
    "import os\n",
    "for dirname, _, filenames in os.walk('/kaggle/input'):\n",
    "    for filename in filenames:\n",
    "        print(os.path.join(dirname, filename))\n",
    "\n",
    "\n",
    "# You can write up to 20GB to the current directory (/kaggle/working/) that gets preserved as output when you create a version using \"Save & Run All\" \n",
    "# You can also write temporary files to /kaggle/temp/, but they won't be saved outside of the current session"
   ]
  },
  {
   "cell_type": "code",
   "execution_count": 2,
   "id": "5e985d46",
   "metadata": {
    "execution": {
     "iopub.execute_input": "2023-10-12T17:10:48.068348Z",
     "iopub.status.busy": "2023-10-12T17:10:48.067657Z",
     "iopub.status.idle": "2023-10-12T17:10:48.101225Z",
     "shell.execute_reply": "2023-10-12T17:10:48.100171Z"
    },
    "papermill": {
     "duration": 0.040732,
     "end_time": "2023-10-12T17:10:48.103727",
     "exception": false,
     "start_time": "2023-10-12T17:10:48.062995",
     "status": "completed"
    },
    "tags": []
   },
   "outputs": [],
   "source": [
    "# Read data set\n",
    "train_data = pd.read_csv(\"/kaggle/input/titanic/train.csv\")\n",
    "train_data.head()\n",
    "\n",
    "test_data = pd.read_csv(\"/kaggle/input/titanic/test.csv\")\n"
   ]
  },
  {
   "cell_type": "code",
   "execution_count": 3,
   "id": "1eb78f21",
   "metadata": {
    "execution": {
     "iopub.execute_input": "2023-10-12T17:10:48.112023Z",
     "iopub.status.busy": "2023-10-12T17:10:48.111612Z",
     "iopub.status.idle": "2023-10-12T17:10:48.128347Z",
     "shell.execute_reply": "2023-10-12T17:10:48.126974Z"
    },
    "papermill": {
     "duration": 0.023408,
     "end_time": "2023-10-12T17:10:48.130567",
     "exception": false,
     "start_time": "2023-10-12T17:10:48.107159",
     "status": "completed"
    },
    "tags": []
   },
   "outputs": [
    {
     "name": "stdout",
     "output_type": "stream",
     "text": [
      "% of women who survived: 0.7420382165605095\n"
     ]
    }
   ],
   "source": [
    "# Finding relationship between female passengers and survival rate\n",
    "women = train_data.loc[train_data.Sex == 'female'][\"Survived\"]\n",
    "rate_women = sum(women)/len(women)\n",
    "\n",
    "print(\"% of women who survived:\", rate_women)"
   ]
  },
  {
   "cell_type": "code",
   "execution_count": 4,
   "id": "b2f77361",
   "metadata": {
    "execution": {
     "iopub.execute_input": "2023-10-12T17:10:48.138562Z",
     "iopub.status.busy": "2023-10-12T17:10:48.138198Z",
     "iopub.status.idle": "2023-10-12T17:10:48.146343Z",
     "shell.execute_reply": "2023-10-12T17:10:48.145115Z"
    },
    "papermill": {
     "duration": 0.014333,
     "end_time": "2023-10-12T17:10:48.148239",
     "exception": false,
     "start_time": "2023-10-12T17:10:48.133906",
     "status": "completed"
    },
    "tags": []
   },
   "outputs": [
    {
     "name": "stdout",
     "output_type": "stream",
     "text": [
      "% of men who survived: 0.18890814558058924\n"
     ]
    }
   ],
   "source": [
    "# Finding relationship between male passengers and survival rate\n",
    "men = train_data.loc[train_data.Sex == 'male'][\"Survived\"]\n",
    "rate_men = sum(men)/len(men)\n",
    "\n",
    "print(\"% of men who survived:\", rate_men)"
   ]
  },
  {
   "cell_type": "code",
   "execution_count": 5,
   "id": "bd4bf18e",
   "metadata": {
    "execution": {
     "iopub.execute_input": "2023-10-12T17:10:48.156771Z",
     "iopub.status.busy": "2023-10-12T17:10:48.155794Z",
     "iopub.status.idle": "2023-10-12T17:10:48.164368Z",
     "shell.execute_reply": "2023-10-12T17:10:48.163149Z"
    },
    "papermill": {
     "duration": 0.015363,
     "end_time": "2023-10-12T17:10:48.166793",
     "exception": false,
     "start_time": "2023-10-12T17:10:48.151430",
     "status": "completed"
    },
    "tags": []
   },
   "outputs": [
    {
     "data": {
      "text/plain": [
       "'\\nfrom sklearn.ensemble import RandomForestClassifier\\n\\ny = train_data[\"Survived\"]\\n\\nfeatures = [\"Pclass\", \"Sex\", \"SibSp\", \"Parch\"]\\nX = pd.get_dummies(train_data[features])\\nX_test = pd.get_dummies(test_data[features])\\n\\nmodel = RandomForestClassifier(n_estimators=100, max_depth=5, random_state=1)\\nmodel.fit(X, y)\\npredictions = model.predict(X_test)\\n\\noutput = pd.DataFrame({\\'PassengerId\\': test_data.PassengerId, \\'Survived\\': predictions})\\noutput.to_csv(\\'submission.csv\\', index=False)\\nprint(\"Your submission was successfully saved!\")\\n\\n'"
      ]
     },
     "execution_count": 5,
     "metadata": {},
     "output_type": "execute_result"
    }
   ],
   "source": [
    "\"\"\"\n",
    "from sklearn.ensemble import RandomForestClassifier\n",
    "\n",
    "y = train_data[\"Survived\"]\n",
    "\n",
    "features = [\"Pclass\", \"Sex\", \"SibSp\", \"Parch\"]\n",
    "X = pd.get_dummies(train_data[features])\n",
    "X_test = pd.get_dummies(test_data[features])\n",
    "\n",
    "model = RandomForestClassifier(n_estimators=100, max_depth=5, random_state=1)\n",
    "model.fit(X, y)\n",
    "predictions = model.predict(X_test)\n",
    "\n",
    "output = pd.DataFrame({'PassengerId': test_data.PassengerId, 'Survived': predictions})\n",
    "output.to_csv('submission.csv', index=False)\n",
    "print(\"Your submission was successfully saved!\")\n",
    "\n",
    "\"\"\""
   ]
  },
  {
   "cell_type": "code",
   "execution_count": 6,
   "id": "5fc8fe7c",
   "metadata": {
    "execution": {
     "iopub.execute_input": "2023-10-12T17:10:48.176054Z",
     "iopub.status.busy": "2023-10-12T17:10:48.175396Z",
     "iopub.status.idle": "2023-10-12T17:10:48.212545Z",
     "shell.execute_reply": "2023-10-12T17:10:48.211814Z"
    },
    "papermill": {
     "duration": 0.04397,
     "end_time": "2023-10-12T17:10:48.214509",
     "exception": false,
     "start_time": "2023-10-12T17:10:48.170539",
     "status": "completed"
    },
    "tags": []
   },
   "outputs": [
    {
     "data": {
      "text/html": [
       "<div>\n",
       "<style scoped>\n",
       "    .dataframe tbody tr th:only-of-type {\n",
       "        vertical-align: middle;\n",
       "    }\n",
       "\n",
       "    .dataframe tbody tr th {\n",
       "        vertical-align: top;\n",
       "    }\n",
       "\n",
       "    .dataframe thead th {\n",
       "        text-align: right;\n",
       "    }\n",
       "</style>\n",
       "<table border=\"1\" class=\"dataframe\">\n",
       "  <thead>\n",
       "    <tr style=\"text-align: right;\">\n",
       "      <th></th>\n",
       "      <th>PassengerId</th>\n",
       "      <th>Survived</th>\n",
       "      <th>Pclass</th>\n",
       "      <th>Age</th>\n",
       "      <th>SibSp</th>\n",
       "      <th>Parch</th>\n",
       "      <th>Fare</th>\n",
       "    </tr>\n",
       "  </thead>\n",
       "  <tbody>\n",
       "    <tr>\n",
       "      <th>count</th>\n",
       "      <td>891.000000</td>\n",
       "      <td>891.000000</td>\n",
       "      <td>891.000000</td>\n",
       "      <td>714.000000</td>\n",
       "      <td>891.000000</td>\n",
       "      <td>891.000000</td>\n",
       "      <td>891.000000</td>\n",
       "    </tr>\n",
       "    <tr>\n",
       "      <th>mean</th>\n",
       "      <td>446.000000</td>\n",
       "      <td>0.383838</td>\n",
       "      <td>2.308642</td>\n",
       "      <td>29.699118</td>\n",
       "      <td>0.523008</td>\n",
       "      <td>0.381594</td>\n",
       "      <td>32.204208</td>\n",
       "    </tr>\n",
       "    <tr>\n",
       "      <th>std</th>\n",
       "      <td>257.353842</td>\n",
       "      <td>0.486592</td>\n",
       "      <td>0.836071</td>\n",
       "      <td>14.526497</td>\n",
       "      <td>1.102743</td>\n",
       "      <td>0.806057</td>\n",
       "      <td>49.693429</td>\n",
       "    </tr>\n",
       "    <tr>\n",
       "      <th>min</th>\n",
       "      <td>1.000000</td>\n",
       "      <td>0.000000</td>\n",
       "      <td>1.000000</td>\n",
       "      <td>0.420000</td>\n",
       "      <td>0.000000</td>\n",
       "      <td>0.000000</td>\n",
       "      <td>0.000000</td>\n",
       "    </tr>\n",
       "    <tr>\n",
       "      <th>25%</th>\n",
       "      <td>223.500000</td>\n",
       "      <td>0.000000</td>\n",
       "      <td>2.000000</td>\n",
       "      <td>20.125000</td>\n",
       "      <td>0.000000</td>\n",
       "      <td>0.000000</td>\n",
       "      <td>7.910400</td>\n",
       "    </tr>\n",
       "    <tr>\n",
       "      <th>50%</th>\n",
       "      <td>446.000000</td>\n",
       "      <td>0.000000</td>\n",
       "      <td>3.000000</td>\n",
       "      <td>28.000000</td>\n",
       "      <td>0.000000</td>\n",
       "      <td>0.000000</td>\n",
       "      <td>14.454200</td>\n",
       "    </tr>\n",
       "    <tr>\n",
       "      <th>75%</th>\n",
       "      <td>668.500000</td>\n",
       "      <td>1.000000</td>\n",
       "      <td>3.000000</td>\n",
       "      <td>38.000000</td>\n",
       "      <td>1.000000</td>\n",
       "      <td>0.000000</td>\n",
       "      <td>31.000000</td>\n",
       "    </tr>\n",
       "    <tr>\n",
       "      <th>max</th>\n",
       "      <td>891.000000</td>\n",
       "      <td>1.000000</td>\n",
       "      <td>3.000000</td>\n",
       "      <td>80.000000</td>\n",
       "      <td>8.000000</td>\n",
       "      <td>6.000000</td>\n",
       "      <td>512.329200</td>\n",
       "    </tr>\n",
       "  </tbody>\n",
       "</table>\n",
       "</div>"
      ],
      "text/plain": [
       "       PassengerId    Survived      Pclass         Age       SibSp  \\\n",
       "count   891.000000  891.000000  891.000000  714.000000  891.000000   \n",
       "mean    446.000000    0.383838    2.308642   29.699118    0.523008   \n",
       "std     257.353842    0.486592    0.836071   14.526497    1.102743   \n",
       "min       1.000000    0.000000    1.000000    0.420000    0.000000   \n",
       "25%     223.500000    0.000000    2.000000   20.125000    0.000000   \n",
       "50%     446.000000    0.000000    3.000000   28.000000    0.000000   \n",
       "75%     668.500000    1.000000    3.000000   38.000000    1.000000   \n",
       "max     891.000000    1.000000    3.000000   80.000000    8.000000   \n",
       "\n",
       "            Parch        Fare  \n",
       "count  891.000000  891.000000  \n",
       "mean     0.381594   32.204208  \n",
       "std      0.806057   49.693429  \n",
       "min      0.000000    0.000000  \n",
       "25%      0.000000    7.910400  \n",
       "50%      0.000000   14.454200  \n",
       "75%      0.000000   31.000000  \n",
       "max      6.000000  512.329200  "
      ]
     },
     "execution_count": 6,
     "metadata": {},
     "output_type": "execute_result"
    }
   ],
   "source": [
    "train_data.describe()"
   ]
  },
  {
   "cell_type": "code",
   "execution_count": 7,
   "id": "9232f5d4",
   "metadata": {
    "execution": {
     "iopub.execute_input": "2023-10-12T17:10:48.224020Z",
     "iopub.status.busy": "2023-10-12T17:10:48.223425Z",
     "iopub.status.idle": "2023-10-12T17:10:48.228863Z",
     "shell.execute_reply": "2023-10-12T17:10:48.228203Z"
    },
    "papermill": {
     "duration": 0.012153,
     "end_time": "2023-10-12T17:10:48.230540",
     "exception": false,
     "start_time": "2023-10-12T17:10:48.218387",
     "status": "completed"
    },
    "tags": []
   },
   "outputs": [
    {
     "data": {
      "text/plain": [
       "Index(['PassengerId', 'Survived', 'Pclass', 'Name', 'Sex', 'Age', 'SibSp',\n",
       "       'Parch', 'Ticket', 'Fare', 'Cabin', 'Embarked'],\n",
       "      dtype='object')"
      ]
     },
     "execution_count": 7,
     "metadata": {},
     "output_type": "execute_result"
    }
   ],
   "source": [
    "train_data.columns"
   ]
  },
  {
   "cell_type": "code",
   "execution_count": 8,
   "id": "576a6c69",
   "metadata": {
    "execution": {
     "iopub.execute_input": "2023-10-12T17:10:48.239611Z",
     "iopub.status.busy": "2023-10-12T17:10:48.239063Z",
     "iopub.status.idle": "2023-10-12T17:10:48.263608Z",
     "shell.execute_reply": "2023-10-12T17:10:48.262212Z"
    },
    "papermill": {
     "duration": 0.032262,
     "end_time": "2023-10-12T17:10:48.266416",
     "exception": false,
     "start_time": "2023-10-12T17:10:48.234154",
     "status": "completed"
    },
    "tags": []
   },
   "outputs": [
    {
     "name": "stdout",
     "output_type": "stream",
     "text": [
      "<class 'pandas.core.frame.DataFrame'>\n",
      "RangeIndex: 891 entries, 0 to 890\n",
      "Data columns (total 12 columns):\n",
      " #   Column       Non-Null Count  Dtype  \n",
      "---  ------       --------------  -----  \n",
      " 0   PassengerId  891 non-null    int64  \n",
      " 1   Survived     891 non-null    int64  \n",
      " 2   Pclass       891 non-null    int64  \n",
      " 3   Name         891 non-null    object \n",
      " 4   Sex          891 non-null    object \n",
      " 5   Age          714 non-null    float64\n",
      " 6   SibSp        891 non-null    int64  \n",
      " 7   Parch        891 non-null    int64  \n",
      " 8   Ticket       891 non-null    object \n",
      " 9   Fare         891 non-null    float64\n",
      " 10  Cabin        204 non-null    object \n",
      " 11  Embarked     889 non-null    object \n",
      "dtypes: float64(2), int64(5), object(5)\n",
      "memory usage: 83.7+ KB\n"
     ]
    }
   ],
   "source": [
    "train_data.info()"
   ]
  },
  {
   "cell_type": "code",
   "execution_count": 9,
   "id": "6c744241",
   "metadata": {
    "execution": {
     "iopub.execute_input": "2023-10-12T17:10:48.276768Z",
     "iopub.status.busy": "2023-10-12T17:10:48.275562Z",
     "iopub.status.idle": "2023-10-12T17:10:48.284642Z",
     "shell.execute_reply": "2023-10-12T17:10:48.283700Z"
    },
    "papermill": {
     "duration": 0.016207,
     "end_time": "2023-10-12T17:10:48.286667",
     "exception": false,
     "start_time": "2023-10-12T17:10:48.270460",
     "status": "completed"
    },
    "tags": []
   },
   "outputs": [
    {
     "data": {
      "text/plain": [
       "PassengerId      0\n",
       "Survived         0\n",
       "Pclass           0\n",
       "Name             0\n",
       "Sex              0\n",
       "Age            177\n",
       "SibSp            0\n",
       "Parch            0\n",
       "Ticket           0\n",
       "Fare             0\n",
       "Cabin          687\n",
       "Embarked         2\n",
       "dtype: int64"
      ]
     },
     "execution_count": 9,
     "metadata": {},
     "output_type": "execute_result"
    }
   ],
   "source": [
    "train_data.isnull().sum()"
   ]
  },
  {
   "cell_type": "code",
   "execution_count": 10,
   "id": "58824f80",
   "metadata": {
    "execution": {
     "iopub.execute_input": "2023-10-12T17:10:48.296083Z",
     "iopub.status.busy": "2023-10-12T17:10:48.295446Z",
     "iopub.status.idle": "2023-10-12T17:10:48.304277Z",
     "shell.execute_reply": "2023-10-12T17:10:48.303291Z"
    },
    "papermill": {
     "duration": 0.015726,
     "end_time": "2023-10-12T17:10:48.306234",
     "exception": false,
     "start_time": "2023-10-12T17:10:48.290508",
     "status": "completed"
    },
    "tags": []
   },
   "outputs": [
    {
     "data": {
      "text/plain": [
       "PassengerId    0\n",
       "Survived       0\n",
       "Pclass         0\n",
       "Name           0\n",
       "Sex            0\n",
       "Age            0\n",
       "SibSp          0\n",
       "Parch          0\n",
       "Ticket         0\n",
       "Fare           0\n",
       "Cabin          0\n",
       "Embarked       0\n",
       "dtype: int64"
      ]
     },
     "execution_count": 10,
     "metadata": {},
     "output_type": "execute_result"
    }
   ],
   "source": [
    "train_data_dropN = train_data.dropna(axis=0)\n",
    "train_data_dropN.isnull().sum()\n"
   ]
  },
  {
   "cell_type": "markdown",
   "id": "b550012d",
   "metadata": {
    "papermill": {
     "duration": 0.003586,
     "end_time": "2023-10-12T17:10:48.314045",
     "exception": false,
     "start_time": "2023-10-12T17:10:48.310459",
     "status": "completed"
    },
    "tags": []
   },
   "source": [
    "Following code cell is to learn/understand what sklearn is all about and how to use properly."
   ]
  },
  {
   "cell_type": "code",
   "execution_count": 11,
   "id": "c567f765",
   "metadata": {
    "execution": {
     "iopub.execute_input": "2023-10-12T17:10:48.324013Z",
     "iopub.status.busy": "2023-10-12T17:10:48.322966Z",
     "iopub.status.idle": "2023-10-12T17:10:49.917885Z",
     "shell.execute_reply": "2023-10-12T17:10:49.916252Z"
    },
    "papermill": {
     "duration": 1.602445,
     "end_time": "2023-10-12T17:10:49.920349",
     "exception": false,
     "start_time": "2023-10-12T17:10:48.317904",
     "status": "completed"
    },
    "tags": []
   },
   "outputs": [],
   "source": [
    "train_features = ['Pclass', 'Sex', 'Age', 'Cabin']\n",
    "X = train_data_dropN[train_features]\n",
    "\n",
    "y = train_data_dropN.Survived\n",
    "\n",
    "from sklearn.tree import DecisionTreeRegressor\n",
    "\n",
    "# Define model. Specify a number for random_state to ensure same results each run\n",
    "train_model = DecisionTreeRegressor(random_state=1)\n",
    "\n",
    "# Fit model\n",
    "# train_model.fit(X, y)"
   ]
  },
  {
   "cell_type": "code",
   "execution_count": null,
   "id": "cbe01084",
   "metadata": {
    "papermill": {
     "duration": 0.003608,
     "end_time": "2023-10-12T17:10:49.928170",
     "exception": false,
     "start_time": "2023-10-12T17:10:49.924562",
     "status": "completed"
    },
    "tags": []
   },
   "outputs": [],
   "source": []
  }
 ],
 "metadata": {
  "kernelspec": {
   "display_name": "Python 3",
   "language": "python",
   "name": "python3"
  },
  "language_info": {
   "codemirror_mode": {
    "name": "ipython",
    "version": 3
   },
   "file_extension": ".py",
   "mimetype": "text/x-python",
   "name": "python",
   "nbconvert_exporter": "python",
   "pygments_lexer": "ipython3",
   "version": "3.10.12"
  },
  "papermill": {
   "default_parameters": {},
   "duration": 6.315015,
   "end_time": "2023-10-12T17:10:50.753606",
   "environment_variables": {},
   "exception": null,
   "input_path": "__notebook__.ipynb",
   "output_path": "__notebook__.ipynb",
   "parameters": {},
   "start_time": "2023-10-12T17:10:44.438591",
   "version": "2.4.0"
  }
 },
 "nbformat": 4,
 "nbformat_minor": 5
}
